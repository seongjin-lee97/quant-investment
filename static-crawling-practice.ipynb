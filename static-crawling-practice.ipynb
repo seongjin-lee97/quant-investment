{
 "cells": [
  {
   "cell_type": "code",
   "execution_count": 2,
   "metadata": {},
   "outputs": [
    {
     "name": "stdout",
     "output_type": "stream",
     "text": [
      "<Response [200]>\n"
     ]
    }
   ],
   "source": [
    "import requests as rq\n",
    "url = 'https://quotes.toscrape.com'\n",
    "quote = rq.get(url)\n",
    "\n",
    "print(quote)"
   ]
  },
  {
   "cell_type": "code",
   "execution_count": 3,
   "metadata": {},
   "outputs": [
    {
     "data": {
      "text/plain": [
       "b'<!DOCTYPE html>\\n<html lang=\"en\">\\n<head>\\n\\t<meta charset=\"UTF-8\">\\n\\t<title>Quotes to Scrape</title>\\n    <link rel=\"stylesheet\" href=\"/static/bootstrap.min.css\">\\n    <link rel=\"stylesheet\" href=\"/static/main.css\">\\n</head>\\n<body>\\n    <div class=\"container\">\\n        <div class=\"row header-box\">\\n            <div class=\"col-md-8\">\\n                <h1>\\n                    <a href=\"/\" style=\"text-decoration: none\">Quotes to Scrape</a>\\n                </h1>\\n            </div>\\n            <div class=\"col-md-4\">\\n                <p>\\n                \\n                    <a href=\"/login\">Login</a>\\n                \\n                </p>\\n            </div>\\n        </div>\\n    \\n\\n<div class=\"row\">\\n    <div class=\"col-md-8\">\\n\\n    <div class=\"quote\" itemscope itemtype=\"http://schema.org/CreativeWork\">\\n        <span class=\"text\" itemprop=\"text\">\\xe2\\x80\\x9cThe world as we have created it is a process of our thinking. It cannot be changed without changing our thinking.\\xe2\\x80\\x9d</span>\\n        <span>by <small class=\"author\" it'"
      ]
     },
     "execution_count": 3,
     "metadata": {},
     "output_type": "execute_result"
    }
   ],
   "source": [
    "quote.content[:1000]"
   ]
  },
  {
   "cell_type": "code",
   "execution_count": 4,
   "metadata": {},
   "outputs": [
    {
     "data": {
      "text/plain": [
       "[<meta charset=\"utf-8\"/>,\n",
       " <title>Quotes to Scrape</title>,\n",
       " <link href=\"/static/bootstrap.min.css\" rel=\"stylesheet\"/>,\n",
       " <link href=\"/static/main.css\" rel=\"stylesheet\"/>]"
      ]
     },
     "execution_count": 4,
     "metadata": {},
     "output_type": "execute_result"
    }
   ],
   "source": [
    "from bs4 import BeautifulSoup\n",
    "\n",
    "quote_html = BeautifulSoup(quote.content, 'html.parser')\n",
    "quote_html.head()"
   ]
  },
  {
   "cell_type": "code",
   "execution_count": 5,
   "metadata": {},
   "outputs": [
    {
     "data": {
      "text/plain": [
       "[<div class=\"quote\" itemscope=\"\" itemtype=\"http://schema.org/CreativeWork\">\n",
       " <span class=\"text\" itemprop=\"text\">“The world as we have created it is a process of our thinking. It cannot be changed without changing our thinking.”</span>\n",
       " <span>by <small class=\"author\" itemprop=\"author\">Albert Einstein</small>\n",
       " <a href=\"/author/Albert-Einstein\">(about)</a>\n",
       " </span>\n",
       " <div class=\"tags\">\n",
       "             Tags:\n",
       "             <meta class=\"keywords\" content=\"change,deep-thoughts,thinking,world\" itemprop=\"keywords\"/>\n",
       " <a class=\"tag\" href=\"/tag/change/page/1/\">change</a>\n",
       " <a class=\"tag\" href=\"/tag/deep-thoughts/page/1/\">deep-thoughts</a>\n",
       " <a class=\"tag\" href=\"/tag/thinking/page/1/\">thinking</a>\n",
       " <a class=\"tag\" href=\"/tag/world/page/1/\">world</a>\n",
       " </div>\n",
       " </div>,\n",
       " <div class=\"quote\" itemscope=\"\" itemtype=\"http://schema.org/CreativeWork\">\n",
       " <span class=\"text\" itemprop=\"text\">“It is our choices, Harry, that show what we truly are, far more than our abilities.”</span>\n",
       " <span>by <small class=\"author\" itemprop=\"author\">J.K. Rowling</small>\n",
       " <a href=\"/author/J-K-Rowling\">(about)</a>\n",
       " </span>\n",
       " <div class=\"tags\">\n",
       "             Tags:\n",
       "             <meta class=\"keywords\" content=\"abilities,choices\" itemprop=\"keywords\"/>\n",
       " <a class=\"tag\" href=\"/tag/abilities/page/1/\">abilities</a>\n",
       " <a class=\"tag\" href=\"/tag/choices/page/1/\">choices</a>\n",
       " </div>\n",
       " </div>,\n",
       " <div class=\"quote\" itemscope=\"\" itemtype=\"http://schema.org/CreativeWork\">\n",
       " <span class=\"text\" itemprop=\"text\">“There are only two ways to live your life. One is as though nothing is a miracle. The other is as though everything is a miracle.”</span>\n",
       " <span>by <small class=\"author\" itemprop=\"author\">Albert Einstein</small>\n",
       " <a href=\"/author/Albert-Einstein\">(about)</a>\n",
       " </span>\n",
       " <div class=\"tags\">\n",
       "             Tags:\n",
       "             <meta class=\"keywords\" content=\"inspirational,life,live,miracle,miracles\" itemprop=\"keywords\"/>\n",
       " <a class=\"tag\" href=\"/tag/inspirational/page/1/\">inspirational</a>\n",
       " <a class=\"tag\" href=\"/tag/life/page/1/\">life</a>\n",
       " <a class=\"tag\" href=\"/tag/live/page/1/\">live</a>\n",
       " <a class=\"tag\" href=\"/tag/miracle/page/1/\">miracle</a>\n",
       " <a class=\"tag\" href=\"/tag/miracles/page/1/\">miracles</a>\n",
       " </div>\n",
       " </div>,\n",
       " <div class=\"quote\" itemscope=\"\" itemtype=\"http://schema.org/CreativeWork\">\n",
       " <span class=\"text\" itemprop=\"text\">“The person, be it gentleman or lady, who has not pleasure in a good novel, must be intolerably stupid.”</span>\n",
       " <span>by <small class=\"author\" itemprop=\"author\">Jane Austen</small>\n",
       " <a href=\"/author/Jane-Austen\">(about)</a>\n",
       " </span>\n",
       " <div class=\"tags\">\n",
       "             Tags:\n",
       "             <meta class=\"keywords\" content=\"aliteracy,books,classic,humor\" itemprop=\"keywords\"/>\n",
       " <a class=\"tag\" href=\"/tag/aliteracy/page/1/\">aliteracy</a>\n",
       " <a class=\"tag\" href=\"/tag/books/page/1/\">books</a>\n",
       " <a class=\"tag\" href=\"/tag/classic/page/1/\">classic</a>\n",
       " <a class=\"tag\" href=\"/tag/humor/page/1/\">humor</a>\n",
       " </div>\n",
       " </div>,\n",
       " <div class=\"quote\" itemscope=\"\" itemtype=\"http://schema.org/CreativeWork\">\n",
       " <span class=\"text\" itemprop=\"text\">“Imperfection is beauty, madness is genius and it's better to be absolutely ridiculous than absolutely boring.”</span>\n",
       " <span>by <small class=\"author\" itemprop=\"author\">Marilyn Monroe</small>\n",
       " <a href=\"/author/Marilyn-Monroe\">(about)</a>\n",
       " </span>\n",
       " <div class=\"tags\">\n",
       "             Tags:\n",
       "             <meta class=\"keywords\" content=\"be-yourself,inspirational\" itemprop=\"keywords\"/>\n",
       " <a class=\"tag\" href=\"/tag/be-yourself/page/1/\">be-yourself</a>\n",
       " <a class=\"tag\" href=\"/tag/inspirational/page/1/\">inspirational</a>\n",
       " </div>\n",
       " </div>,\n",
       " <div class=\"quote\" itemscope=\"\" itemtype=\"http://schema.org/CreativeWork\">\n",
       " <span class=\"text\" itemprop=\"text\">“Try not to become a man of success. Rather become a man of value.”</span>\n",
       " <span>by <small class=\"author\" itemprop=\"author\">Albert Einstein</small>\n",
       " <a href=\"/author/Albert-Einstein\">(about)</a>\n",
       " </span>\n",
       " <div class=\"tags\">\n",
       "             Tags:\n",
       "             <meta class=\"keywords\" content=\"adulthood,success,value\" itemprop=\"keywords\"/>\n",
       " <a class=\"tag\" href=\"/tag/adulthood/page/1/\">adulthood</a>\n",
       " <a class=\"tag\" href=\"/tag/success/page/1/\">success</a>\n",
       " <a class=\"tag\" href=\"/tag/value/page/1/\">value</a>\n",
       " </div>\n",
       " </div>,\n",
       " <div class=\"quote\" itemscope=\"\" itemtype=\"http://schema.org/CreativeWork\">\n",
       " <span class=\"text\" itemprop=\"text\">“It is better to be hated for what you are than to be loved for what you are not.”</span>\n",
       " <span>by <small class=\"author\" itemprop=\"author\">André Gide</small>\n",
       " <a href=\"/author/Andre-Gide\">(about)</a>\n",
       " </span>\n",
       " <div class=\"tags\">\n",
       "             Tags:\n",
       "             <meta class=\"keywords\" content=\"life,love\" itemprop=\"keywords\"/>\n",
       " <a class=\"tag\" href=\"/tag/life/page/1/\">life</a>\n",
       " <a class=\"tag\" href=\"/tag/love/page/1/\">love</a>\n",
       " </div>\n",
       " </div>,\n",
       " <div class=\"quote\" itemscope=\"\" itemtype=\"http://schema.org/CreativeWork\">\n",
       " <span class=\"text\" itemprop=\"text\">“I have not failed. I've just found 10,000 ways that won't work.”</span>\n",
       " <span>by <small class=\"author\" itemprop=\"author\">Thomas A. Edison</small>\n",
       " <a href=\"/author/Thomas-A-Edison\">(about)</a>\n",
       " </span>\n",
       " <div class=\"tags\">\n",
       "             Tags:\n",
       "             <meta class=\"keywords\" content=\"edison,failure,inspirational,paraphrased\" itemprop=\"keywords\"/>\n",
       " <a class=\"tag\" href=\"/tag/edison/page/1/\">edison</a>\n",
       " <a class=\"tag\" href=\"/tag/failure/page/1/\">failure</a>\n",
       " <a class=\"tag\" href=\"/tag/inspirational/page/1/\">inspirational</a>\n",
       " <a class=\"tag\" href=\"/tag/paraphrased/page/1/\">paraphrased</a>\n",
       " </div>\n",
       " </div>,\n",
       " <div class=\"quote\" itemscope=\"\" itemtype=\"http://schema.org/CreativeWork\">\n",
       " <span class=\"text\" itemprop=\"text\">“A woman is like a tea bag; you never know how strong it is until it's in hot water.”</span>\n",
       " <span>by <small class=\"author\" itemprop=\"author\">Eleanor Roosevelt</small>\n",
       " <a href=\"/author/Eleanor-Roosevelt\">(about)</a>\n",
       " </span>\n",
       " <div class=\"tags\">\n",
       "             Tags:\n",
       "             <meta class=\"keywords\" content=\"misattributed-eleanor-roosevelt\" itemprop=\"keywords\"/>\n",
       " <a class=\"tag\" href=\"/tag/misattributed-eleanor-roosevelt/page/1/\">misattributed-eleanor-roosevelt</a>\n",
       " </div>\n",
       " </div>,\n",
       " <div class=\"quote\" itemscope=\"\" itemtype=\"http://schema.org/CreativeWork\">\n",
       " <span class=\"text\" itemprop=\"text\">“A day without sunshine is like, you know, night.”</span>\n",
       " <span>by <small class=\"author\" itemprop=\"author\">Steve Martin</small>\n",
       " <a href=\"/author/Steve-Martin\">(about)</a>\n",
       " </span>\n",
       " <div class=\"tags\">\n",
       "             Tags:\n",
       "             <meta class=\"keywords\" content=\"humor,obvious,simile\" itemprop=\"keywords\"/>\n",
       " <a class=\"tag\" href=\"/tag/humor/page/1/\">humor</a>\n",
       " <a class=\"tag\" href=\"/tag/obvious/page/1/\">obvious</a>\n",
       " <a class=\"tag\" href=\"/tag/simile/page/1/\">simile</a>\n",
       " </div>\n",
       " </div>]"
      ]
     },
     "execution_count": 5,
     "metadata": {},
     "output_type": "execute_result"
    }
   ],
   "source": [
    "quote_div = quote_html.find_all('div', class_='quote')\n",
    "quote_div"
   ]
  },
  {
   "cell_type": "code",
   "execution_count": 6,
   "metadata": {},
   "outputs": [
    {
     "data": {
      "text/plain": [
       "<div class=\"quote\" itemscope=\"\" itemtype=\"http://schema.org/CreativeWork\">\n",
       "<span class=\"text\" itemprop=\"text\">“The world as we have created it is a process of our thinking. It cannot be changed without changing our thinking.”</span>\n",
       "<span>by <small class=\"author\" itemprop=\"author\">Albert Einstein</small>\n",
       "<a href=\"/author/Albert-Einstein\">(about)</a>\n",
       "</span>\n",
       "<div class=\"tags\">\n",
       "            Tags:\n",
       "            <meta class=\"keywords\" content=\"change,deep-thoughts,thinking,world\" itemprop=\"keywords\"/>\n",
       "<a class=\"tag\" href=\"/tag/change/page/1/\">change</a>\n",
       "<a class=\"tag\" href=\"/tag/deep-thoughts/page/1/\">deep-thoughts</a>\n",
       "<a class=\"tag\" href=\"/tag/thinking/page/1/\">thinking</a>\n",
       "<a class=\"tag\" href=\"/tag/world/page/1/\">world</a>\n",
       "</div>\n",
       "</div>"
      ]
     },
     "execution_count": 6,
     "metadata": {},
     "output_type": "execute_result"
    }
   ],
   "source": [
    "quote_div[0]"
   ]
  },
  {
   "cell_type": "code",
   "execution_count": 7,
   "metadata": {},
   "outputs": [
    {
     "data": {
      "text/plain": [
       "[<span class=\"text\" itemprop=\"text\">“The world as we have created it is a process of our thinking. It cannot be changed without changing our thinking.”</span>]"
      ]
     },
     "execution_count": 7,
     "metadata": {},
     "output_type": "execute_result"
    }
   ],
   "source": [
    "quote_span = quote_div[0].find_all('span', class_='text')\n",
    "quote_span"
   ]
  },
  {
   "cell_type": "code",
   "execution_count": 8,
   "metadata": {},
   "outputs": [
    {
     "data": {
      "text/plain": [
       "'“The world as we have created it is a process of our thinking. It cannot be changed without changing our thinking.”'"
      ]
     },
     "execution_count": 8,
     "metadata": {},
     "output_type": "execute_result"
    }
   ],
   "source": [
    "quote_span[0].text"
   ]
  },
  {
   "cell_type": "code",
   "execution_count": 9,
   "metadata": {},
   "outputs": [
    {
     "data": {
      "text/plain": [
       "['“The world as we have created it is a process of our thinking. It cannot be changed without changing our thinking.”',\n",
       " '“It is our choices, Harry, that show what we truly are, far more than our abilities.”',\n",
       " '“There are only two ways to live your life. One is as though nothing is a miracle. The other is as though everything is a miracle.”',\n",
       " '“The person, be it gentleman or lady, who has not pleasure in a good novel, must be intolerably stupid.”',\n",
       " \"“Imperfection is beauty, madness is genius and it's better to be absolutely ridiculous than absolutely boring.”\",\n",
       " '“Try not to become a man of success. Rather become a man of value.”',\n",
       " '“It is better to be hated for what you are than to be loved for what you are not.”',\n",
       " \"“I have not failed. I've just found 10,000 ways that won't work.”\",\n",
       " \"“A woman is like a tea bag; you never know how strong it is until it's in hot water.”\",\n",
       " '“A day without sunshine is like, you know, night.”']"
      ]
     },
     "execution_count": 9,
     "metadata": {},
     "output_type": "execute_result"
    }
   ],
   "source": [
    "quote_div = quote_html.find_all('div', class_='quote')\n",
    "\n",
    "[i.find_all('span', class_='text')[0].text for i in quote_div]"
   ]
  },
  {
   "cell_type": "code",
   "execution_count": 10,
   "metadata": {},
   "outputs": [
    {
     "data": {
      "text/plain": [
       "[<span class=\"text\" itemprop=\"text\">“The world as we have created it is a process of our thinking. It cannot be changed without changing our thinking.”</span>,\n",
       " <span class=\"text\" itemprop=\"text\">“It is our choices, Harry, that show what we truly are, far more than our abilities.”</span>,\n",
       " <span class=\"text\" itemprop=\"text\">“There are only two ways to live your life. One is as though nothing is a miracle. The other is as though everything is a miracle.”</span>,\n",
       " <span class=\"text\" itemprop=\"text\">“The person, be it gentleman or lady, who has not pleasure in a good novel, must be intolerably stupid.”</span>,\n",
       " <span class=\"text\" itemprop=\"text\">“Imperfection is beauty, madness is genius and it's better to be absolutely ridiculous than absolutely boring.”</span>,\n",
       " <span class=\"text\" itemprop=\"text\">“Try not to become a man of success. Rather become a man of value.”</span>,\n",
       " <span class=\"text\" itemprop=\"text\">“It is better to be hated for what you are than to be loved for what you are not.”</span>,\n",
       " <span class=\"text\" itemprop=\"text\">“I have not failed. I've just found 10,000 ways that won't work.”</span>,\n",
       " <span class=\"text\" itemprop=\"text\">“A woman is like a tea bag; you never know how strong it is until it's in hot water.”</span>,\n",
       " <span class=\"text\" itemprop=\"text\">“A day without sunshine is like, you know, night.”</span>]"
      ]
     },
     "execution_count": 10,
     "metadata": {},
     "output_type": "execute_result"
    }
   ],
   "source": [
    "quote_text = quote_html.select('div.quote > span.text')\n",
    "quote_text"
   ]
  },
  {
   "cell_type": "code",
   "execution_count": 11,
   "metadata": {},
   "outputs": [
    {
     "data": {
      "text/plain": [
       "['“The world as we have created it is a process of our thinking. It cannot be changed without changing our thinking.”',\n",
       " '“It is our choices, Harry, that show what we truly are, far more than our abilities.”',\n",
       " '“There are only two ways to live your life. One is as though nothing is a miracle. The other is as though everything is a miracle.”',\n",
       " '“The person, be it gentleman or lady, who has not pleasure in a good novel, must be intolerably stupid.”',\n",
       " \"“Imperfection is beauty, madness is genius and it's better to be absolutely ridiculous than absolutely boring.”\",\n",
       " '“Try not to become a man of success. Rather become a man of value.”',\n",
       " '“It is better to be hated for what you are than to be loved for what you are not.”',\n",
       " \"“I have not failed. I've just found 10,000 ways that won't work.”\",\n",
       " \"“A woman is like a tea bag; you never know how strong it is until it's in hot water.”\",\n",
       " '“A day without sunshine is like, you know, night.”']"
      ]
     },
     "execution_count": 11,
     "metadata": {},
     "output_type": "execute_result"
    }
   ],
   "source": [
    "quote_text_list = [i.text for i in quote_text]\n",
    "quote_text_list"
   ]
  },
  {
   "cell_type": "code",
   "execution_count": 12,
   "metadata": {},
   "outputs": [
    {
     "data": {
      "text/plain": [
       "['Albert Einstein',\n",
       " 'J.K. Rowling',\n",
       " 'Albert Einstein',\n",
       " 'Jane Austen',\n",
       " 'Marilyn Monroe',\n",
       " 'Albert Einstein',\n",
       " 'André Gide',\n",
       " 'Thomas A. Edison',\n",
       " 'Eleanor Roosevelt',\n",
       " 'Steve Martin']"
      ]
     },
     "execution_count": 12,
     "metadata": {},
     "output_type": "execute_result"
    }
   ],
   "source": [
    "quote_author = quote_html.select('div.quote > span > small.author')\n",
    "quote_author_list = [i.text for i in quote_author]\n",
    "\n",
    "quote_author_list\n"
   ]
  },
  {
   "cell_type": "code",
   "execution_count": 13,
   "metadata": {},
   "outputs": [
    {
     "data": {
      "text/plain": [
       "[<a href=\"/author/Albert-Einstein\">(about)</a>,\n",
       " <a href=\"/author/J-K-Rowling\">(about)</a>,\n",
       " <a href=\"/author/Albert-Einstein\">(about)</a>,\n",
       " <a href=\"/author/Jane-Austen\">(about)</a>,\n",
       " <a href=\"/author/Marilyn-Monroe\">(about)</a>,\n",
       " <a href=\"/author/Albert-Einstein\">(about)</a>,\n",
       " <a href=\"/author/Andre-Gide\">(about)</a>,\n",
       " <a href=\"/author/Thomas-A-Edison\">(about)</a>,\n",
       " <a href=\"/author/Eleanor-Roosevelt\">(about)</a>,\n",
       " <a href=\"/author/Steve-Martin\">(about)</a>]"
      ]
     },
     "execution_count": 13,
     "metadata": {},
     "output_type": "execute_result"
    }
   ],
   "source": [
    "quote_link = quote_html.select('div.quote > span > a')\n",
    "quote_link"
   ]
  },
  {
   "cell_type": "code",
   "execution_count": 14,
   "metadata": {},
   "outputs": [
    {
     "data": {
      "text/plain": [
       "'/author/Albert-Einstein'"
      ]
     },
     "execution_count": 14,
     "metadata": {},
     "output_type": "execute_result"
    }
   ],
   "source": [
    "quote_link[0]['href']"
   ]
  },
  {
   "cell_type": "code",
   "execution_count": 15,
   "metadata": {},
   "outputs": [
    {
     "data": {
      "text/plain": [
       "['https://quotes.toscrape.com/author/Albert-Einstein',\n",
       " 'https://quotes.toscrape.com/author/J-K-Rowling',\n",
       " 'https://quotes.toscrape.com/author/Albert-Einstein',\n",
       " 'https://quotes.toscrape.com/author/Jane-Austen',\n",
       " 'https://quotes.toscrape.com/author/Marilyn-Monroe',\n",
       " 'https://quotes.toscrape.com/author/Albert-Einstein',\n",
       " 'https://quotes.toscrape.com/author/Andre-Gide',\n",
       " 'https://quotes.toscrape.com/author/Thomas-A-Edison',\n",
       " 'https://quotes.toscrape.com/author/Eleanor-Roosevelt',\n",
       " 'https://quotes.toscrape.com/author/Steve-Martin']"
      ]
     },
     "execution_count": 15,
     "metadata": {},
     "output_type": "execute_result"
    }
   ],
   "source": [
    "['https://quotes.toscrape.com' + i['href'] for i in quote_link]"
   ]
  },
  {
   "cell_type": "code",
   "execution_count": 16,
   "metadata": {},
   "outputs": [],
   "source": [
    "import requests as rq\n",
    "from bs4 import BeautifulSoup\n",
    "import time\n",
    "\n",
    "text_list = []\n",
    "author_list = []\n",
    "infor_list = []\n",
    "\n",
    "for i in range(1, 100):\n",
    "    \n",
    "    url = f'https://quotes.toscrape.com/page/{i}/'\n",
    "    quote = rq.get(url)\n",
    "    quote_html = BeautifulSoup(quote.content, 'html.parser')\n",
    "    \n",
    "    quote_text = quote_html.select('div.quote > span.text')\n",
    "    quote_text_list = [i.text for i in quote_text]\n",
    "    \n",
    "    quote_author = quote_html.select('div.quote > span > small.author')\n",
    "    quote_author_list = [i.text for i in quote_author]\n",
    "\n",
    "    quote_link = quote_html.select('div.quote > span > a')\n",
    "    quote_link_list = ['https://quotes.toscrape.com' + i['href'] for i in quote_link]\n",
    "    \n",
    "    if len(quote_text_list) > 0:\n",
    "        text_list.extend(quote_text_list)\n",
    "        author_list.extend(quote_author_list)\n",
    "        infor_list.extend(quote_link_list)\n",
    "        time.sleep(1)\n",
    "        \n",
    "    else:\n",
    "        break"
   ]
  },
  {
   "cell_type": "code",
   "execution_count": 17,
   "metadata": {},
   "outputs": [
    {
     "data": {
      "text/html": [
       "<div>\n",
       "<style scoped>\n",
       "    .dataframe tbody tr th:only-of-type {\n",
       "        vertical-align: middle;\n",
       "    }\n",
       "\n",
       "    .dataframe tbody tr th {\n",
       "        vertical-align: top;\n",
       "    }\n",
       "\n",
       "    .dataframe thead th {\n",
       "        text-align: right;\n",
       "    }\n",
       "</style>\n",
       "<table border=\"1\" class=\"dataframe\">\n",
       "  <thead>\n",
       "    <tr style=\"text-align: right;\">\n",
       "      <th></th>\n",
       "      <th>text</th>\n",
       "      <th>author</th>\n",
       "      <th>infor</th>\n",
       "    </tr>\n",
       "  </thead>\n",
       "  <tbody>\n",
       "    <tr>\n",
       "      <th>0</th>\n",
       "      <td>“The world as we have created it is a process ...</td>\n",
       "      <td>Albert Einstein</td>\n",
       "      <td>https://quotes.toscrape.com/author/Albert-Eins...</td>\n",
       "    </tr>\n",
       "    <tr>\n",
       "      <th>1</th>\n",
       "      <td>“It is our choices, Harry, that show what we t...</td>\n",
       "      <td>J.K. Rowling</td>\n",
       "      <td>https://quotes.toscrape.com/author/J-K-Rowling</td>\n",
       "    </tr>\n",
       "    <tr>\n",
       "      <th>2</th>\n",
       "      <td>“There are only two ways to live your life. On...</td>\n",
       "      <td>Albert Einstein</td>\n",
       "      <td>https://quotes.toscrape.com/author/Albert-Eins...</td>\n",
       "    </tr>\n",
       "    <tr>\n",
       "      <th>3</th>\n",
       "      <td>“The person, be it gentleman or lady, who has ...</td>\n",
       "      <td>Jane Austen</td>\n",
       "      <td>https://quotes.toscrape.com/author/Jane-Austen</td>\n",
       "    </tr>\n",
       "    <tr>\n",
       "      <th>4</th>\n",
       "      <td>“Imperfection is beauty, madness is genius and...</td>\n",
       "      <td>Marilyn Monroe</td>\n",
       "      <td>https://quotes.toscrape.com/author/Marilyn-Monroe</td>\n",
       "    </tr>\n",
       "    <tr>\n",
       "      <th>...</th>\n",
       "      <td>...</td>\n",
       "      <td>...</td>\n",
       "      <td>...</td>\n",
       "    </tr>\n",
       "    <tr>\n",
       "      <th>95</th>\n",
       "      <td>“You never really understand a person until yo...</td>\n",
       "      <td>Harper Lee</td>\n",
       "      <td>https://quotes.toscrape.com/author/Harper-Lee</td>\n",
       "    </tr>\n",
       "    <tr>\n",
       "      <th>96</th>\n",
       "      <td>“You have to write the book that wants to be w...</td>\n",
       "      <td>Madeleine L'Engle</td>\n",
       "      <td>https://quotes.toscrape.com/author/Madeleine-L...</td>\n",
       "    </tr>\n",
       "    <tr>\n",
       "      <th>97</th>\n",
       "      <td>“Never tell the truth to people who are not wo...</td>\n",
       "      <td>Mark Twain</td>\n",
       "      <td>https://quotes.toscrape.com/author/Mark-Twain</td>\n",
       "    </tr>\n",
       "    <tr>\n",
       "      <th>98</th>\n",
       "      <td>“A person's a person, no matter how small.”</td>\n",
       "      <td>Dr. Seuss</td>\n",
       "      <td>https://quotes.toscrape.com/author/Dr-Seuss</td>\n",
       "    </tr>\n",
       "    <tr>\n",
       "      <th>99</th>\n",
       "      <td>“... a mind needs books as a sword needs a whe...</td>\n",
       "      <td>George R.R. Martin</td>\n",
       "      <td>https://quotes.toscrape.com/author/George-R-R-...</td>\n",
       "    </tr>\n",
       "  </tbody>\n",
       "</table>\n",
       "<p>100 rows × 3 columns</p>\n",
       "</div>"
      ],
      "text/plain": [
       "                                                 text              author   \n",
       "0   “The world as we have created it is a process ...     Albert Einstein  \\\n",
       "1   “It is our choices, Harry, that show what we t...        J.K. Rowling   \n",
       "2   “There are only two ways to live your life. On...     Albert Einstein   \n",
       "3   “The person, be it gentleman or lady, who has ...         Jane Austen   \n",
       "4   “Imperfection is beauty, madness is genius and...      Marilyn Monroe   \n",
       "..                                                ...                 ...   \n",
       "95  “You never really understand a person until yo...          Harper Lee   \n",
       "96  “You have to write the book that wants to be w...   Madeleine L'Engle   \n",
       "97  “Never tell the truth to people who are not wo...          Mark Twain   \n",
       "98        “A person's a person, no matter how small.”           Dr. Seuss   \n",
       "99  “... a mind needs books as a sword needs a whe...  George R.R. Martin   \n",
       "\n",
       "                                                infor  \n",
       "0   https://quotes.toscrape.com/author/Albert-Eins...  \n",
       "1      https://quotes.toscrape.com/author/J-K-Rowling  \n",
       "2   https://quotes.toscrape.com/author/Albert-Eins...  \n",
       "3      https://quotes.toscrape.com/author/Jane-Austen  \n",
       "4   https://quotes.toscrape.com/author/Marilyn-Monroe  \n",
       "..                                                ...  \n",
       "95      https://quotes.toscrape.com/author/Harper-Lee  \n",
       "96  https://quotes.toscrape.com/author/Madeleine-L...  \n",
       "97      https://quotes.toscrape.com/author/Mark-Twain  \n",
       "98        https://quotes.toscrape.com/author/Dr-Seuss  \n",
       "99  https://quotes.toscrape.com/author/George-R-R-...  \n",
       "\n",
       "[100 rows x 3 columns]"
      ]
     },
     "execution_count": 17,
     "metadata": {},
     "output_type": "execute_result"
    }
   ],
   "source": [
    "import pandas as pd\n",
    "\n",
    "pd.DataFrame({'text' : text_list, 'author' : author_list, 'infor' : infor_list})"
   ]
  },
  {
   "cell_type": "code",
   "execution_count": 1,
   "metadata": {},
   "outputs": [
    {
     "data": {
      "text/plain": [
       "[<a href=\"/news/news_read.naver?article_id=0005140948&amp;office_id=009&amp;mode=LSS2D&amp;type=0§ion_id=101§ion_id2=258§ion_id3=&amp;date=20230607&amp;page=1\" title=\"170% 오른 엔비디아 같은 주식 있을거야…‘진주’ 찾아 나선 개미들\">170% 오른 엔비디아 같은 주식 있을거야…‘진주’ 찾아 나선 개미들</a>,\n",
       " <a href=\"/news/news_read.naver?article_id=0005140939&amp;office_id=009&amp;mode=LSS2D&amp;type=0§ion_id=101§ion_id2=258§ion_id3=&amp;date=20230607&amp;page=1\" title=\"포스코 40% 오를때 우린 뭐했지? 똑같은 철강주인데 비실댄 기업\">포스코 40% 오를때 우린 뭐했지? 똑같은 철강주인데 비실댄 기업</a>,\n",
       " <a href=\"/news/news_read.naver?article_id=0004199193&amp;office_id=011&amp;mode=LSS2D&amp;type=0§ion_id=101§ion_id2=258§ion_id3=&amp;date=20230607&amp;page=1\" title=\"[투자의 창] AI시대에 유망한 산업 분야\">[투자의 창] AI시대에 유망한 산업 분야</a>,\n",
       " <a href=\"/news/news_read.naver?article_id=0005140931&amp;office_id=009&amp;mode=LSS2D&amp;type=0§ion_id=101§ion_id2=258§ion_id3=&amp;date=20230607&amp;page=1\" title=\"‘1000조원’ 향해 달려가는 이 기업…“그때 사서 묵혀둘걸”\">‘1000조원’ 향해 달려가는 이 기업…“그때 사서 묵혀둘걸”</a>,\n",
       " <a href=\"/news/news_read.naver?article_id=0004896547&amp;office_id=008&amp;mode=LSS2D&amp;type=0§ion_id=101§ion_id2=258§ion_id3=&amp;date=20230607&amp;page=1\" title=\"소형주로 랠리 확산, 강세장 vs 유동성 장세 끝나 조정[오미주]\">소형주로 랠리 확산, 강세장 vs 유동성 장세 끝나 조정[오미주]</a>,\n",
       " <a href=\"/news/news_read.naver?article_id=0001747623&amp;office_id=057&amp;mode=LSS2D&amp;type=0§ion_id=101§ion_id2=258§ion_id3=&amp;date=20230607&amp;page=1\" title=\"같은 가격인데 더 비싼 국산차 세금…그랜저 세금 54만 원 싸진다\">같은 가격인데 더 비싼 국산차 세금…그랜저 세금 54만 원 싸진다</a>,\n",
       " <a href=\"/news/news_read.naver?article_id=0005140929&amp;office_id=009&amp;mode=LSS2D&amp;type=0§ion_id=101§ion_id2=258§ion_id3=&amp;date=20230607&amp;page=1\" title=\"‘맥쿼리 계좌’가 뭐길래…강남 부자 몰려가, 일주일새 수백개 넘어\">‘맥쿼리 계좌’가 뭐길래…강남 부자 몰려가, 일주일새 수백개 넘어</a>,\n",
       " <a href=\"/news/news_read.naver?article_id=0001747610&amp;office_id=057&amp;mode=LSS2D&amp;type=0§ion_id=101§ion_id2=258§ion_id3=&amp;date=20230607&amp;page=1\" title=\"'뉴홈' 물량 늘리고 시기 당긴다…&quot;당첨되면 4억 차익&quot;\">'뉴홈' 물량 늘리고 시기 당긴다…\"당첨되면 4억 차익\"</a>,\n",
       " <a href=\"/news/news_read.naver?article_id=0001747609&amp;office_id=057&amp;mode=LSS2D&amp;type=0§ion_id=101§ion_id2=258§ion_id3=&amp;date=20230607&amp;page=1\" title='\"최저임금 12,000원 되면, 사장님 19만 명은 직원 포기\"'>\"최저임금 12,000원 되면, 사장님 19만 명은 직원 포기\"</a>,\n",
       " <a href=\"/news/news_read.naver?article_id=0002805420&amp;office_id=029&amp;mode=LSS2D&amp;type=0§ion_id=101§ion_id2=258§ion_id3=&amp;date=20230607&amp;page=1\" title=\"애플 `비전 프로` 공개에… 삼성·LGD 덕보나\">애플 `비전 프로` 공개에… 삼성·LGD 덕보나</a>,\n",
       " <a href=\"/news/news_read.naver?article_id=0002805419&amp;office_id=029&amp;mode=LSS2D&amp;type=0§ion_id=101§ion_id2=258§ion_id3=&amp;date=20230607&amp;page=1\" title=\"`범죄도시3` 600만명 돌파, 조각투자자들 `싱글벙글`\">`범죄도시3` 600만명 돌파, 조각투자자들 `싱글벙글`</a>,\n",
       " <a href=\"/news/news_read.naver?article_id=0001106138&amp;office_id=215&amp;mode=LSS2D&amp;type=0§ion_id=101§ion_id2=258§ion_id3=&amp;date=20230607&amp;page=1\" title=\"금리 동결 점치는 월가…다시 볕드는 '중소형주' [GO WEST]\">금리 동결 점치는 월가…다시 볕드는 '중소형주' [GO WEST]</a>,\n",
       " <a href=\"/news/news_read.naver?article_id=0001106136&amp;office_id=215&amp;mode=LSS2D&amp;type=0§ion_id=101§ion_id2=258§ion_id3=&amp;date=20230607&amp;page=1\" title=\"증시랠리에 ELS도 '훈풍'…조기상환도 '껑충'\">증시랠리에 ELS도 '훈풍'…조기상환도 '껑충'</a>,\n",
       " <a href=\"/news/news_read.naver?article_id=0001106134&amp;office_id=215&amp;mode=LSS2D&amp;type=0§ion_id=101§ion_id2=258§ion_id3=&amp;date=20230607&amp;page=1\" title='2차전지 재충전…\"숨겨진 수혜주를 주목하라\"'>2차전지 재충전…\"숨겨진 수혜주를 주목하라\"</a>,\n",
       " <a href=\"/news/news_read.naver?article_id=0001106120&amp;office_id=215&amp;mode=LSS2D&amp;type=0§ion_id=101§ion_id2=258§ion_id3=&amp;date=20230607&amp;page=1\" title='\"서머랠리 어렵다\"…외국인, 반도체 차익실현 돌입'>\"서머랠리 어렵다\"…외국인, 반도체 차익실현 돌입</a>,\n",
       " <a href=\"/news/news_read.naver?article_id=0005502999&amp;office_id=018&amp;mode=LSS2D&amp;type=0§ion_id=101§ion_id2=258§ion_id3=&amp;date=20230607&amp;page=1\" title=\"[마켓인]새마을금고 ‘화수분 투자’를 바라보는 엇갈린 시각\">[마켓인]새마을금고 ‘화수분 투자’를 바라보는 엇갈린 시각</a>,\n",
       " <a href=\"/news/news_read.naver?article_id=0000907417&amp;office_id=366&amp;mode=LSS2D&amp;type=0§ion_id=101§ion_id2=258§ion_id3=&amp;date=20230607&amp;page=1\" title=\"대신증권, 단기 신용융자 이자 안 받는다\">대신증권, 단기 신용융자 이자 안 받는다</a>,\n",
       " <a href=\"/news/news_read.naver?article_id=0000907416&amp;office_id=366&amp;mode=LSS2D&amp;type=0§ion_id=101§ion_id2=258§ion_id3=&amp;date=20230607&amp;page=1\" title=\"디지털 보안 기업 시큐센 “이달 코스닥 이전 상장 재도전”\">디지털 보안 기업 시큐센 “이달 코스닥 이전 상장 재도전”</a>]"
      ]
     },
     "execution_count": 1,
     "metadata": {},
     "output_type": "execute_result"
    }
   ],
   "source": [
    "import requests as rq\n",
    "from bs4 import BeautifulSoup\n",
    "\n",
    "url = 'https://finance.naver.com/news/news_list.naver?mode=LSS2D&section_id=101&section_id2=258'\n",
    "data = rq.get(url)\n",
    "html = BeautifulSoup(data.content, 'html.parser')\n",
    "html_select = html.select('dl > dd.articleSubject > a')\n",
    "\n",
    "html_select"
   ]
  },
  {
   "cell_type": "code",
   "execution_count": 19,
   "metadata": {},
   "outputs": [
    {
     "data": {
      "text/plain": [
       "'2600 문턱에 걸려도…외국인은 여전히 코스피 베팅 중'"
      ]
     },
     "execution_count": 19,
     "metadata": {},
     "output_type": "execute_result"
    }
   ],
   "source": [
    "html_select[0]['title']"
   ]
  },
  {
   "cell_type": "code",
   "execution_count": 48,
   "metadata": {},
   "outputs": [
    {
     "data": {
      "text/plain": [
       "['2600 문턱에 걸려도…외국인은 여전히 코스피 베팅 중',\n",
       " \"KB증권, 작년 탑에서 올해 '실적 전무'…상장주관 성적 반전시킬까\",\n",
       " '뉴욕 증시, 부채상한 표결 관망에 하락 출발...다우 0.87%↓ 나스닥 0.66%↓',\n",
       " '뉴욕증시, 부채한도 불안·고물가 압박에 하락 출발',\n",
       " '뉴욕증시, 부채한도 표결 주시하며 하락 출발',\n",
       " '[속보] 美 4월 구인건수 1010만 건…예상 상회 천만 재돌파',\n",
       " '우여곡절 끝에 코스닥 이전…프로테옴텍, 우려 딛고 ‘기술력’으로 흥할까',\n",
       " '[속보] 뉴욕 증시, 하락 출발...다우 0.57%↓ 나스닥 0.20%↓',\n",
       " 'BTS 활동 중단 직전 주식 내다 판 소속사 직원들, 검찰 송치',\n",
       " '도이치방크, 에이비스버짓 보류→매수 상향…주가 61% 상승가능',\n",
       " '골드만삭스, 씨월드 매수로 커버리지 시작…목표가 75달러',\n",
       " '웰스파고, 아메리칸익스프레스 비중확대 유지…주가 27% 상승 가능',\n",
       " '中  바이두, 1억4500만달러 벤처캐피털 AI펀드 조성',\n",
       " '결단코 추격 매수 않겠다는 결심…그래서 오르는 증시[오미주]',\n",
       " \"외국인 소유 주택 절반 이상 '중국인' 소유…경기·서울에 집중\",\n",
       " '하반기 코스피 3000선 회복?',\n",
       " '뚝뚝 떨어지는 유가…월가도 등돌리는 에너지주 [GO WEST]',\n",
       " '북, 우주발사체 남쪽으로 쏜 까닭은?']"
      ]
     },
     "execution_count": 48,
     "metadata": {},
     "output_type": "execute_result"
    }
   ],
   "source": [
    "[i['title'] for i in html_select]"
   ]
  },
  {
   "cell_type": "code",
   "execution_count": 3,
   "metadata": {},
   "outputs": [
    {
     "data": {
      "text/html": [
       "<div>\n",
       "<style scoped>\n",
       "    .dataframe tbody tr th:only-of-type {\n",
       "        vertical-align: middle;\n",
       "    }\n",
       "\n",
       "    .dataframe tbody tr th {\n",
       "        vertical-align: top;\n",
       "    }\n",
       "\n",
       "    .dataframe thead th {\n",
       "        text-align: right;\n",
       "    }\n",
       "</style>\n",
       "<table border=\"1\" class=\"dataframe\">\n",
       "  <thead>\n",
       "    <tr style=\"text-align: right;\">\n",
       "      <th></th>\n",
       "      <th>Rank</th>\n",
       "      <th>Country</th>\n",
       "      <th>Total market cap (in mil. US$)[2]</th>\n",
       "      <th>Total market cap (% of GDP)[3]</th>\n",
       "      <th>Number of domestic companies listed[4]</th>\n",
       "      <th>Year</th>\n",
       "    </tr>\n",
       "  </thead>\n",
       "  <tbody>\n",
       "    <tr>\n",
       "      <th>0</th>\n",
       "      <td>1</td>\n",
       "      <td>United States</td>\n",
       "      <td>44719661</td>\n",
       "      <td>194.5</td>\n",
       "      <td>4266</td>\n",
       "      <td>2020</td>\n",
       "    </tr>\n",
       "    <tr>\n",
       "      <th>1</th>\n",
       "      <td>2</td>\n",
       "      <td>China</td>\n",
       "      <td>13214311</td>\n",
       "      <td>83.0</td>\n",
       "      <td>4154</td>\n",
       "      <td>2020</td>\n",
       "    </tr>\n",
       "    <tr>\n",
       "      <th>2</th>\n",
       "      <td>3</td>\n",
       "      <td>Japan</td>\n",
       "      <td>6718220</td>\n",
       "      <td>122.2</td>\n",
       "      <td>3754</td>\n",
       "      <td>2020</td>\n",
       "    </tr>\n",
       "    <tr>\n",
       "      <th>3</th>\n",
       "      <td>4</td>\n",
       "      <td>Hong Kong</td>\n",
       "      <td>6130420</td>\n",
       "      <td>1768.8</td>\n",
       "      <td>2353</td>\n",
       "      <td>2020</td>\n",
       "    </tr>\n",
       "    <tr>\n",
       "      <th>4</th>\n",
       "      <td>5</td>\n",
       "      <td>India</td>\n",
       "      <td>3210000</td>\n",
       "      <td>100.0</td>\n",
       "      <td>5215</td>\n",
       "      <td>2021</td>\n",
       "    </tr>\n",
       "  </tbody>\n",
       "</table>\n",
       "</div>"
      ],
      "text/plain": [
       "   Rank        Country  Total market cap (in mil. US$)[2]   \n",
       "0     1  United States                           44719661  \\\n",
       "1     2          China                           13214311   \n",
       "2     3          Japan                            6718220   \n",
       "3     4      Hong Kong                            6130420   \n",
       "4     5          India                            3210000   \n",
       "\n",
       "   Total market cap (% of GDP)[3] Number of domestic companies listed[4]  Year  \n",
       "0                           194.5                                   4266  2020  \n",
       "1                            83.0                                   4154  2020  \n",
       "2                           122.2                                   3754  2020  \n",
       "3                          1768.8                                   2353  2020  \n",
       "4                           100.0                                   5215  2021  "
      ]
     },
     "execution_count": 3,
     "metadata": {},
     "output_type": "execute_result"
    }
   ],
   "source": [
    "import pandas as pd\n",
    "\n",
    "url = 'https://en.wikipedia.org/wiki/List_of_countries_by_stock_market_capitalization'\n",
    "tbl = pd.read_html(url)\n",
    "\n",
    "tbl[0].head()"
   ]
  },
  {
   "cell_type": "code",
   "execution_count": 5,
   "metadata": {},
   "outputs": [
    {
     "name": "stdout",
     "output_type": "stream",
     "text": [
      "\n",
      "<section class=\"scrarea type-00\">\n",
      "<table class=\"list type-00 mt10\" summary=\"시간, 회사명, 공시제목, 제출인, 차트/주가\">\n",
      "<caption>목록</caption>\n",
      "<colgroup>\n",
      "<col width=\"9%\"/>\n",
      "<col width=\"22%\"/>\n",
      "<col width=\"*\"/>\n",
      "<col width=\"16%\"/>\n",
      "<col width=\"9%\"/>\n",
      "</colgroup>\n",
      "<thead>\n",
      "<tr class=\"first active\" id=\"title-contents\">\n",
      "</tr>\n",
      "</thead>\n",
      "<tbody>\n",
      "<tr class=\"first\" id=\"parkman\">\n",
      "<td class=\"first txc\">19:27</td>\n",
      "<td><img alt=\"코스닥\" class=\"vmiddle legend\" src=\"/images/common/icn_t_ko.gif\"/> <a href=\"#companysum\" id=\"companysum\" onclick=\"companysummary_open('09661'); return false;\" title=\"알에프세미\"> 알에프세미</a> </td>\n",
      "<td><a href=\"#viewer\" onclick=\"openDisclsViewer('20230602000646','')\" title=\"기타시장안내(최대주주의 의무보유 관련)\">기타시장안내(최대주주의 의무보유 관련)</a></td>\n",
      "<td>코스닥시장본부</td>\n",
      "<td class=\"txc\">\n",
      "<a class=\"btn ico chart-00\" href=\"#\" onclick=\"openDisclsChart('09661');return false;\" title=\"공시차트\"><span>공시차트</span></a>\n",
      "<a class=\"btn ico chart-01\" href=\"#\" onclick=\"fnPopStockPrices('09661');return false;\" title=\"주가차트\"><span>주가차트</span></a>\n",
      "</td>\n",
      "</tr>\n",
      "<tr id=\"parkman\">\n",
      "<td class=\"first txc\">19:23</td>\n",
      "<td><img alt=\"코스닥\" class=\"vmiddle legend\" src=\"/images/common/icn_t_ko.gif\"/> <a href=\"#companysum\" id=\"companysum\" onclick=\"companysummary_open('08379'); return false;\" title=\"크리스탈지노믹스\"> 크리스탈지노믹스</a> </td>\n",
      "<td><a href=\"#viewer\" onclick=\"openDisclsViewer('20230602000647','')\" title=\"기타시장안내(최대주주의 의무보유 대상 확인 관련)\">기타시장안내(최대주주의 의무보유 대상 확인 관련)</a></td>\n",
      "<td>코스닥시장본부</td>\n",
      "<td class=\"txc\">\n",
      "<a class=\"btn ico chart-00\" href=\"#\" onclick=\"openDisclsChart('08379');return false;\" title=\"공시차트\"><span>공시차트</span></a>\n",
      "<a class=\"btn ico chart-01\" href=\"#\" onclick=\"fnPopStockPrices('08379');return false;\" title=\"주가차트\"><span>주가차트</span></a>\n",
      "</td>\n",
      "</tr>\n",
      "<tr id=\"parkman\">\n",
      "<td class=\"first txc\">19:16</td>\n",
      "<td><img alt=\"코스닥\" class=\"vmiddle legend\" src=\"/images/common/icn_t_ko.gif\"/> <a href=\"#companysum\" id=\"companysum\" onclick=\"companysummary_open('08379'); return false;\" title=\"크리스탈지노믹스\"> 크리스탈지노믹스</a> </td>\n",
      "<td><a href=\"#viewer\" onclick=\"openDisclsViewer('20230602000645','')\" title=\"최대주주변경\">최대주주변경</a></td>\n",
      "<td>크리스탈지노믹스</td>\n",
      "<td class=\"txc\">\n",
      "<a class=\"btn ico chart-00\" href=\"#\" onclick=\"openDisclsChart('08379');return false;\" title=\"공시차트\"><span>공시차트</span></a>\n",
      "<a class=\"btn ico chart-01\" href=\"#\" onclick=\"fnPopStockPrices('08379');return false;\" title=\"주가차트\"><span>주가차트</span></a>\n",
      "</td>\n",
      "</tr>\n",
      "<tr id=\"parkman\">\n",
      "<td class=\"first txc\">18:57</td>\n",
      "<td><img alt=\"코스닥\" class=\"vmiddle legend\" src=\"/images/common/icn_t_ko.gif\"/> <a href=\"#companysum\" id=\"companysum\" onclick=\"companysummary_open('09661'); return false;\" title=\"알에프세미\"> 알에프세미</a> </td>\n",
      "<td><a href=\"#viewer\" onclick=\"openDisclsViewer('20230602000642','')\" title=\"전환사채권발행결정(제6회차)\"><font color=\"#FF8040\">[정정]</font>전환사채권발행결정(제6회차)</a></td>\n",
      "<td>알에프세미</td>\n",
      "<td class=\"txc\">\n",
      "<a class=\"btn ico chart-00\" href=\"#\" onclick=\"openDisclsChart('09661');return false;\" title=\"공시차트\"><span>공시차트</span></a>\n",
      "<a class=\"btn ico chart-01\" href=\"#\" onclick=\"fnPopStockPrices('09661');return false;\" title=\"주가차트\"><span>주가차트</span></a>\n",
      "</td>\n",
      "</tr>\n",
      "<tr id=\"parkman\">\n",
      "<td class=\"first txc\">18:55</td>\n",
      "<td><img alt=\"코스닥\" class=\"vmiddle legend\" src=\"/images/common/icn_t_ko.gif\"/> <a href=\"#companysum\" id=\"companysum\" onclick=\"companysummary_open('09661'); return false;\" title=\"알에프세미\"> 알에프세미</a> </td>\n",
      "<td><a href=\"#viewer\" onclick=\"openDisclsViewer('20230602000641','')\" title=\"전환사채권발행결정(제5회차)\"><font color=\"#FF8040\">[정정]</font>전환사채권발행결정(제5회차)</a></td>\n",
      "<td>알에프세미</td>\n",
      "<td class=\"txc\">\n",
      "<a class=\"btn ico chart-00\" href=\"#\" onclick=\"openDisclsChart('09661');return false;\" title=\"공시차트\"><span>공시차트</span></a>\n",
      "<a class=\"btn ico chart-01\" href=\"#\" onclick=\"fnPopStockPrices('09661');return false;\" title=\"주가차트\"><span>주가차트</span></a>\n",
      "</td>\n",
      "</tr>\n",
      "<tr id=\"parkman\">\n",
      "<td class=\"first txc\">18:41</td>\n",
      "<td><img alt=\"유가증권\" class=\"vmiddle legend\" src=\"/images/common/icn_t_yu.gif\"/> <a href=\"#companysum\" id=\"companysum\" onclick=\"companysummary_open('09323'); return false;\" title=\"이아이디\"> 이아이디</a> </td>\n",
      "<td><a href=\"#viewer\" onclick=\"openDisclsViewer('20230602000639','')\" title=\"횡령ㆍ배임혐의발생\">횡령ㆍ배임혐의발생</a></td>\n",
      "<td>이아이디</td>\n",
      "<td class=\"txc\">\n",
      "<a class=\"btn ico chart-00\" href=\"#\" onclick=\"openDisclsChart('09323');return false;\" title=\"공시차트\"><span>공시차트</span></a>\n",
      "<a class=\"btn ico chart-01\" href=\"#\" onclick=\"fnPopStockPrices('09323');return false;\" title=\"주가차트\"><span>주가차트</span></a>\n",
      "</td>\n",
      "</tr>\n",
      "<tr id=\"parkman\">\n",
      "<td class=\"first txc\">18:38</td>\n",
      "<td><img alt=\"코스닥\" class=\"vmiddle legend\" src=\"/images/common/icn_t_ko.gif\"/> <a href=\"#companysum\" id=\"companysum\" onclick=\"companysummary_open('09604'); return false;\" title=\"이트론\"> 이트론</a> </td>\n",
      "<td><a href=\"#viewer\" onclick=\"openDisclsViewer('20230602000636','')\" title=\"횡령ㆍ배임혐의발생\">횡령ㆍ배임혐의발생</a></td>\n",
      "<td>이트론</td>\n",
      "<td class=\"txc\">\n",
      "<a class=\"btn ico chart-00\" href=\"#\" onclick=\"openDisclsChart('09604');return false;\" title=\"공시차트\"><span>공시차트</span></a>\n",
      "<a class=\"btn ico chart-01\" href=\"#\" onclick=\"fnPopStockPrices('09604');return false;\" title=\"주가차트\"><span>주가차트</span></a>\n",
      "</td>\n",
      "</tr>\n",
      "<tr id=\"parkman\">\n",
      "<td class=\"first txc\">18:38</td>\n",
      "<td><img alt=\"코스닥\" class=\"vmiddle legend\" src=\"/images/common/icn_t_ko.gif\"/> <a href=\"#companysum\" id=\"companysum\" onclick=\"companysummary_open('02481'); return false;\" title=\"이화전기\"> 이화전기</a> </td>\n",
      "<td><a href=\"#viewer\" onclick=\"openDisclsViewer('20230602000638','')\" title=\"횡령ㆍ배임혐의발생\">횡령ㆍ배임혐의발생</a></td>\n",
      "<td>이화전기공업</td>\n",
      "<td class=\"txc\">\n",
      "<a class=\"btn ico chart-00\" href=\"#\" onclick=\"openDisclsChart('02481');return false;\" title=\"공시차트\"><span>공시차트</span></a>\n",
      "<a class=\"btn ico chart-01\" href=\"#\" onclick=\"fnPopStockPrices('02481');return false;\" title=\"주가차트\"><span>주가차트</span></a>\n",
      "</td>\n",
      "</tr>\n",
      "<tr id=\"parkman\">\n",
      "<td class=\"first txc\">18:32</td>\n",
      "<td><img alt=\"코스닥\" class=\"vmiddle legend\" src=\"/images/common/icn_t_ko.gif\"/> <a href=\"#companysum\" id=\"companysum\" onclick=\"companysummary_open('01372'); return false;\" title=\"CBI\"> CBI</a> </td>\n",
      "<td><a href=\"#viewer\" onclick=\"openDisclsViewer('20230602000633','')\" title=\"타법인주식및출자증권처분결정\">타법인주식및출자증권처분결정</a></td>\n",
      "<td>씨비아이</td>\n",
      "<td class=\"txc\">\n",
      "<a class=\"btn ico chart-00\" href=\"#\" onclick=\"openDisclsChart('01372');return false;\" title=\"공시차트\"><span>공시차트</span></a>\n",
      "<a class=\"btn ico chart-01\" href=\"#\" onclick=\"fnPopStockPrices('01372');return false;\" title=\"주가차트\"><span>주가차트</span></a>\n",
      "</td>\n",
      "</tr>\n",
      "<tr id=\"parkman\">\n",
      "<td class=\"first txc\">18:25</td>\n",
      "<td><img alt=\"코스닥\" class=\"vmiddle legend\" src=\"/images/common/icn_t_ko.gif\"/> <a href=\"#companysum\" id=\"companysum\" onclick=\"companysummary_open('01028'); return false;\" title=\"쌍용정보통신\"> 쌍용정보통신</a> </td>\n",
      "<td><a href=\"#viewer\" onclick=\"openDisclsViewer('20230602000634','')\" title=\"거래처와의거래중단\">거래처와의거래중단</a></td>\n",
      "<td>쌍용정보통신</td>\n",
      "<td class=\"txc\">\n",
      "<a class=\"btn ico chart-00\" href=\"#\" onclick=\"openDisclsChart('01028');return false;\" title=\"공시차트\"><span>공시차트</span></a>\n",
      "<a class=\"btn ico chart-01\" href=\"#\" onclick=\"fnPopStockPrices('01028');return false;\" title=\"주가차트\"><span>주가차트</span></a>\n",
      "</td>\n",
      "</tr>\n",
      "<tr id=\"parkman\">\n",
      "<td class=\"first txc\">18:23</td>\n",
      "<td><img alt=\"코스닥\" class=\"vmiddle legend\" src=\"/images/common/icn_t_ko.gif\"/> <a href=\"#companysum\" id=\"companysum\" onclick=\"companysummary_open('06317'); return false;\" title=\"서울옥션\"> 서울옥션</a> </td>\n",
      "<td><a href=\"#viewer\" onclick=\"openDisclsViewer('20230602000632','')\" title=\"단일판매ㆍ공급계약체결\">단일판매ㆍ공급계약체결</a></td>\n",
      "<td>서울옥션</td>\n",
      "<td class=\"txc\">\n",
      "<a class=\"btn ico chart-00\" href=\"#\" onclick=\"openDisclsChart('06317');return false;\" title=\"공시차트\"><span>공시차트</span></a>\n",
      "<a class=\"btn ico chart-01\" href=\"#\" onclick=\"fnPopStockPrices('06317');return false;\" title=\"주가차트\"><span>주가차트</span></a>\n",
      "</td>\n",
      "</tr>\n",
      "<tr id=\"parkman\">\n",
      "<td class=\"first txc\">18:09</td>\n",
      "<td><img alt=\"코스닥\" class=\"vmiddle legend\" src=\"/images/common/icn_t_ko.gif\"/> <a href=\"#companysum\" id=\"companysum\" onclick=\"companysummary_open('08604'); return false;\" title=\"바이오톡스텍\"> 바이오톡스텍</a> </td>\n",
      "<td><a href=\"#viewer\" onclick=\"openDisclsViewer('20230602000607','')\" title=\"추가상장(국내사모 CB전환)\">추가상장(국내사모 CB전환)</a></td>\n",
      "<td>코스닥시장본부</td>\n",
      "<td class=\"txc\">\n",
      "<a class=\"btn ico chart-00\" href=\"#\" onclick=\"openDisclsChart('08604');return false;\" title=\"공시차트\"><span>공시차트</span></a>\n",
      "<a class=\"btn ico chart-01\" href=\"#\" onclick=\"fnPopStockPrices('08604');return false;\" title=\"주가차트\"><span>주가차트</span></a>\n",
      "</td>\n",
      "</tr>\n",
      "<tr id=\"parkman\">\n",
      "<td class=\"first txc\">18:08</td>\n",
      "<td><img alt=\"코스닥\" class=\"vmiddle legend\" src=\"/images/common/icn_t_ko.gif\"/> <a href=\"#companysum\" id=\"companysum\" onclick=\"companysummary_open('05418'); return false;\" title=\"메디콕스\"> 메디콕스</a> </td>\n",
      "<td><a href=\"#viewer\" onclick=\"openDisclsViewer('20230602000606','')\" title=\"추가상장(국내사모 CB전환)\">추가상장(국내사모 CB전환)</a></td>\n",
      "<td>코스닥시장본부</td>\n",
      "<td class=\"txc\">\n",
      "<a class=\"btn ico chart-00\" href=\"#\" onclick=\"openDisclsChart('05418');return false;\" title=\"공시차트\"><span>공시차트</span></a>\n",
      "<a class=\"btn ico chart-01\" href=\"#\" onclick=\"fnPopStockPrices('05418');return false;\" title=\"주가차트\"><span>주가차트</span></a>\n",
      "</td>\n",
      "</tr>\n",
      "<tr id=\"parkman\">\n",
      "<td class=\"first txc\">18:08</td>\n",
      "<td><img alt=\"코스닥\" class=\"vmiddle legend\" src=\"/images/common/icn_t_ko.gif\"/> <a href=\"#companysum\" id=\"companysum\" onclick=\"companysummary_open('36734'); return false;\" title=\"DB금융스팩8호\"> DB금융스팩8호</a> </td>\n",
      "<td><a href=\"#viewer\" onclick=\"openDisclsViewer('20230602000615','')\" title=\"관리종목지정(SPAC 상장예비심사청구서 미제출 등)\">관리종목지정(SPAC 상장예비심사청구서 미제출 등)</a></td>\n",
      "<td>코스닥시장본부</td>\n",
      "<td class=\"txc\">\n",
      "<a class=\"btn ico chart-00\" href=\"#\" onclick=\"openDisclsChart('36734');return false;\" title=\"공시차트\"><span>공시차트</span></a>\n",
      "<a class=\"btn ico chart-01\" href=\"#\" onclick=\"fnPopStockPrices('36734');return false;\" title=\"주가차트\"><span>주가차트</span></a>\n",
      "</td>\n",
      "</tr>\n",
      "<tr id=\"parkman\">\n",
      "<td class=\"first txc\">18:08</td>\n",
      "<td></td>\n",
      "<td><a href=\"#viewer\" onclick=\"openDisclsViewer('20230602000629','')\" title=\"자기주식매매신청내역(코스닥시장)\">자기주식매매신청내역(코스닥시장)</a></td>\n",
      "<td>코스닥시장본부</td>\n",
      "<td class=\"txc\">\n",
      "</td>\n",
      "</tr>\n",
      "</tbody>\n",
      "</table>\n",
      "</section>\n",
      "<!-- 페이징 START -->\n",
      "<section class=\"paging-group\">\n",
      "<div class=\"paging type-00\"><a class=\"pprev\" href=\"#prevPage10\" onclick=\"return false;\"><span>이전10개 페이지</span></a><a class=\"prev\" href=\"#prevPage\" onclick=\"return false;\"><span>이전 페이지</span></a>\n",
      "<a class=\"active\" href=\"#page_link_1\" onclick=\"return false;\">1</a><a href=\"#page_link_2\" onclick=\"fnPageGo('2');return false;\">2</a><a href=\"#page_link_3\" onclick=\"fnPageGo('3');return false;\">3</a><a href=\"#page_link_4\" onclick=\"fnPageGo('4');return false;\">4</a><a href=\"#page_link_5\" onclick=\"fnPageGo('5');return false;\">5</a><a href=\"#page_link_6\" onclick=\"fnPageGo('6');return false;\">6</a><a href=\"#page_link_7\" onclick=\"fnPageGo('7');return false;\">7</a><a href=\"#page_link_8\" onclick=\"fnPageGo('8');return false;\">8</a><a href=\"#page_link_9\" onclick=\"fnPageGo('9');return false;\">9</a><a href=\"#page_link_10\" onclick=\"fnPageGo('10');return false;\">10</a>\n",
      "<a class=\"next\" href=\"#nextPage\" onclick=\"fnPageGo('2');return false;\"><span>다음 페이지</span></a><a class=\"nnext\" href=\"#nextPage10\" onclick=\"fnPageGo('11');return false;\"><span>다음10개 페이지</span></a></div><div class=\"info type-00\">\n",
      "전체 <em>415</em>건 : <strong>1</strong>/28   \n",
      "<select id=\"currentPageSize\" name=\"currentPageSize\">\n",
      "<option selected=\"selected\" value=\"15\">15건</option>\n",
      "<option value=\"30\">30건</option>\n",
      "<option value=\"50\">50건</option>\n",
      "<option value=\"100\">100건</option>\n",
      "</select>  <a class=\"btn-sprite btn-go vmiddle\" href=\"#\" onclick=\"fnSearch1();return false;\" title=\"GO\"><span>GO</span></a>\n",
      "</div>\n",
      "</section>\n",
      "<!-- 페이징 END -->\n",
      "<script type=\"text/JavaScript\">\n",
      "$(document).ready(function(){\n",
      "\tvar svrGubun = \"real2\";\n",
      "\tif( svrGubun.indexOf(\"dr\") >= 0 ){\n",
      "\t\tfn_InitTitle(\"시간,회사명,공시제목,제출인\", \"true,true,true,true\");\n",
      "\t} else {\n",
      "\t\tfn_InitTitle(\"시간,회사명,공시제목,제출인,차트/주가\", \"true,true,true,true,false\");\n",
      "\t}\n",
      "\n",
      "\t$(\"input[name='segment']:radio\").change(function(){\n",
      "\t\tconsole.log(this.value);\n",
      "\t\t$(\"#searchForm > #kosdaqSegment\").val(this.value);\n",
      "\t\tfnSearch();\n",
      "\t});\n",
      "});\n",
      "</script>\n"
     ]
    }
   ],
   "source": [
    "import requests as rq\n",
    "from bs4 import BeautifulSoup\n",
    "import pandas as pd\n",
    "\n",
    "url = 'https://kind.krx.co.kr/disclosure/todaydisclosure.do'\n",
    "payload = {\n",
    "    'method' : 'searchTodayDisclosureSub',\n",
    "    'currentPageSize' : '15',\n",
    "    'pageIndex' : '1',\n",
    "    'orderMode' : '0',\n",
    "    'orderStat' : 'D',\n",
    "    'forward' : 'todaydisclosure_sub',\n",
    "    'chose' : 'S',\n",
    "    'todayFlag' : 'N',\n",
    "    'selDate' : '2023-06-02'\n",
    "}\n",
    "\n",
    "data = rq.post(url, data=payload)\n",
    "html = BeautifulSoup(data.content, 'html.parser')\n",
    "\n",
    "print(html)"
   ]
  },
  {
   "cell_type": "code",
   "execution_count": 6,
   "metadata": {},
   "outputs": [
    {
     "data": {
      "text/html": [
       "<div>\n",
       "<style scoped>\n",
       "    .dataframe tbody tr th:only-of-type {\n",
       "        vertical-align: middle;\n",
       "    }\n",
       "\n",
       "    .dataframe tbody tr th {\n",
       "        vertical-align: top;\n",
       "    }\n",
       "\n",
       "    .dataframe thead th {\n",
       "        text-align: right;\n",
       "    }\n",
       "</style>\n",
       "<table border=\"1\" class=\"dataframe\">\n",
       "  <thead>\n",
       "    <tr style=\"text-align: right;\">\n",
       "      <th></th>\n",
       "      <th>Unnamed: 0</th>\n",
       "      <th>Unnamed: 1</th>\n",
       "      <th>Unnamed: 2</th>\n",
       "      <th>Unnamed: 3</th>\n",
       "      <th>Unnamed: 4</th>\n",
       "    </tr>\n",
       "  </thead>\n",
       "  <tbody>\n",
       "    <tr>\n",
       "      <th>0</th>\n",
       "      <td>19:27</td>\n",
       "      <td>알에프세미</td>\n",
       "      <td>기타시장안내(최대주주의 의무보유 관련)</td>\n",
       "      <td>코스닥시장본부</td>\n",
       "      <td>공시차트  주가차트</td>\n",
       "    </tr>\n",
       "    <tr>\n",
       "      <th>1</th>\n",
       "      <td>19:23</td>\n",
       "      <td>크리스탈지노믹스</td>\n",
       "      <td>기타시장안내(최대주주의 의무보유 대상 확인 관련)</td>\n",
       "      <td>코스닥시장본부</td>\n",
       "      <td>공시차트  주가차트</td>\n",
       "    </tr>\n",
       "    <tr>\n",
       "      <th>2</th>\n",
       "      <td>19:16</td>\n",
       "      <td>크리스탈지노믹스</td>\n",
       "      <td>최대주주변경</td>\n",
       "      <td>크리스탈지노믹스</td>\n",
       "      <td>공시차트  주가차트</td>\n",
       "    </tr>\n",
       "    <tr>\n",
       "      <th>3</th>\n",
       "      <td>18:57</td>\n",
       "      <td>알에프세미</td>\n",
       "      <td>[정정]  전환사채권발행결정(제6회차)</td>\n",
       "      <td>알에프세미</td>\n",
       "      <td>공시차트  주가차트</td>\n",
       "    </tr>\n",
       "    <tr>\n",
       "      <th>4</th>\n",
       "      <td>18:55</td>\n",
       "      <td>알에프세미</td>\n",
       "      <td>[정정]  전환사채권발행결정(제5회차)</td>\n",
       "      <td>알에프세미</td>\n",
       "      <td>공시차트  주가차트</td>\n",
       "    </tr>\n",
       "  </tbody>\n",
       "</table>\n",
       "</div>"
      ],
      "text/plain": [
       "  Unnamed: 0 Unnamed: 1                   Unnamed: 2 Unnamed: 3  Unnamed: 4\n",
       "0      19:27      알에프세미        기타시장안내(최대주주의 의무보유 관련)    코스닥시장본부  공시차트  주가차트\n",
       "1      19:23   크리스탈지노믹스  기타시장안내(최대주주의 의무보유 대상 확인 관련)    코스닥시장본부  공시차트  주가차트\n",
       "2      19:16   크리스탈지노믹스                       최대주주변경   크리스탈지노믹스  공시차트  주가차트\n",
       "3      18:57      알에프세미        [정정]  전환사채권발행결정(제6회차)      알에프세미  공시차트  주가차트\n",
       "4      18:55      알에프세미        [정정]  전환사채권발행결정(제5회차)      알에프세미  공시차트  주가차트"
      ]
     },
     "execution_count": 6,
     "metadata": {},
     "output_type": "execute_result"
    }
   ],
   "source": [
    "html_unicode = html.prettify()\n",
    "tbl = pd.read_html(html.prettify())\n",
    "\n",
    "tbl[0].head()"
   ]
  }
 ],
 "metadata": {
  "kernelspec": {
   "display_name": "Python 3 (ipykernel)",
   "language": "python",
   "name": "python3"
  },
  "language_info": {
   "codemirror_mode": {
    "name": "ipython",
    "version": 3
   },
   "file_extension": ".py",
   "mimetype": "text/x-python",
   "name": "python",
   "nbconvert_exporter": "python",
   "pygments_lexer": "ipython3",
   "version": "3.8.16"
  },
  "orig_nbformat": 4
 },
 "nbformat": 4,
 "nbformat_minor": 2
}
